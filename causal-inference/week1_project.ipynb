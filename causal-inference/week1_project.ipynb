{
 "cells": [
  {
   "cell_type": "markdown",
   "id": "ca449d23",
   "metadata": {},
   "source": [
    "> 1. DUPLICATE THIS COLAB TO START WORKING ON IT. Using File > Save a copy to drive.\n",
    "> 2. SET THE \"General Access\" OF THE COPIED NOTEBOOK TO \"Anyone with the link\" BY CLICKING ON \"Share\" TO ENABLE SHARING WITH YOUR PEERS FOR REVIEW.\n",
    "> 3. Download the data from the course and \"mount it\" (see cell below) so that you can work with it in this notebook\n",
    "\n",
    "\n",
    "### This project is from the *Causal Inference for Data Science course on CoRise.* Learn more about the course [here](https://corise.com/course/causal-inference-for-data-science).\n",
    "\n",
    "\n",
    "\n",
    "---\n",
    "\n",
    "\n",
    "\n"
   ]
  },
  {
   "cell_type": "markdown",
   "id": "b25666ca",
   "metadata": {},
   "source": [
    "# Week 1 Project: Applying Linear Regression\n",
    "***\n",
    "\n",
    "Welcome to the first project for Causal Inference for Data Science!\n",
    "\n",
    "\n",
    "## Scenario\n",
    "\n",
    "Throughout this course, you will assume the role of a Data Scientist for Tongass, a retailer that sells goods online and in physical stores.\n",
    "\n",
    "One day, a Tongass executive passes by your desk (or Zoom square) and asks, \"Hey, you know things about data, right?\"\n",
    "\n",
    "\"I like to think so,\" you reply as you lean back into your seat.\n",
    "\n",
    "\"Great... Because I've been thinking... How much of a benefit do we get from our physical stores anyway?\"\n",
    "\n",
    "\"Benefit?\" you ask.\n",
    "\n",
    "\"Like, if we can convince a customer to shop in person, does that boost their ultimate value to Tongass?\"\n",
    "\n",
    "\"Hmmm,\" you say, \"an interesting and important question. I'll look into it and report back!\"\n",
    "\n",
    "**This is the question we'll be interested in tackling — not only this week, but in weeks to come.**\n",
    "\n",
    "\n",
    "## Project notes\n",
    "\n",
    "### Data\n",
    "\n",
    "We will work with a consistent data set througout this course (we introduce the data set more fully below). Not all parts of the data set will be applicable in any given week. The goal is demonstrating how a single set of granular data can be transformed to apply different causal inference techniques. We also hope to convey that manipulating data is in many ways the most important aspect of statistical modeling.\n",
    "\n",
    "### Structure\n",
    "\n",
    "We attempt to strike a balance between providing concrete steps to follow and making room for exploration. That said, we encourage you to explore: The best way to become a causal inference expert is to attack a single problem from multiple angles to see how different modeling choices affect an analysis. If this freedom is overwhelming, **don't panic**! You can simply fill out the code blocks marked \"TODO\" and ignore the optional ones. When we ask you to build models, we will provide the treatment effect you should expect so you can check your work."
   ]
  },
  {
   "cell_type": "code",
   "execution_count": 1,
   "id": "143e4fa4",
   "metadata": {},
   "outputs": [],
   "source": [
    "# loading necessary packages\n",
    "%matplotlib inline\n",
    "\n",
    "import pandas as pd\n",
    "import numpy as np\n",
    "import matplotlib.pyplot as plt\n",
    "\n",
    "import seaborn as sns\n",
    "sns.set()\n",
    "\n",
    "import statsmodels.formula.api as smf"
   ]
  },
  {
   "cell_type": "markdown",
   "id": "fa5bf162",
   "metadata": {},
   "source": [
    "<br/>\n",
    "\n",
    "## I. Load the data\n",
    "***\n",
    "\n",
    "We will work with a consistent data set throughout this course. The data set is in the file called `tongass_transactions.csv`.\n",
    "\n",
    "Note: The data set is at the **transaction level**, not the customer level. Any given customer can (and likely does) have multiple transactions. Some measures and fields are at the customer level, while others are at the transaction level. It will be up to you to manipulate this data set so that it can be used for analysis. Note that the question we're interested in is fundamentally about *customers, not transactions,* which means we'll likely need to aggregate the data to the customer level to make it useful.\n",
    "\n",
    "Below, we define the fields that are relevant for this week:\n",
    "- `customer_id`: the unique identifier for a given customer\n",
    "- `age`: the age of the customer\n",
    "- `income`: the income of the customer \n",
    "- `state`: the customer's state of residence\n",
    "- `distance`: the distance (in miles) from a customer's home to the nearest Tongass store\n",
    "- `tx_order`: whether the transaction is the customer's first, second, third... etc.\n",
    "- `amount`: the dollar value of the transaction\n",
    "- `tx_date`: the date of the transaction\n",
    "- `is_credit`: whether the transaction involved a credit card or a different payment method (1 if credit card, 0 if other)\n",
    "- `in_store`: whether the transaction happened in a physical store (1 if yes, 0 if no and happened on tongass.com)\n",
    "\n",
    "**NOTE**: If we don't mention a field above, then it won't be relevant for this week :)"
   ]
  },
  {
   "cell_type": "code",
   "execution_count": 2,
   "id": "32524d3d",
   "metadata": {},
   "outputs": [
    {
     "data": {
      "text/html": [
       "<div>\n",
       "<style scoped>\n",
       "    .dataframe tbody tr th:only-of-type {\n",
       "        vertical-align: middle;\n",
       "    }\n",
       "\n",
       "    .dataframe tbody tr th {\n",
       "        vertical-align: top;\n",
       "    }\n",
       "\n",
       "    .dataframe thead th {\n",
       "        text-align: right;\n",
       "    }\n",
       "</style>\n",
       "<table border=\"1\" class=\"dataframe\">\n",
       "  <thead>\n",
       "    <tr style=\"text-align: right;\">\n",
       "      <th></th>\n",
       "      <th>customer_id</th>\n",
       "      <th>age</th>\n",
       "      <th>income</th>\n",
       "      <th>state</th>\n",
       "      <th>received_re</th>\n",
       "      <th>received_in_store_re</th>\n",
       "      <th>distance</th>\n",
       "      <th>index</th>\n",
       "      <th>tx_order</th>\n",
       "      <th>amount</th>\n",
       "      <th>in_store</th>\n",
       "      <th>tx_date</th>\n",
       "      <th>is_credit</th>\n",
       "      <th>is_bonus</th>\n",
       "    </tr>\n",
       "  </thead>\n",
       "  <tbody>\n",
       "    <tr>\n",
       "      <th>0</th>\n",
       "      <td>0</td>\n",
       "      <td>65</td>\n",
       "      <td>122753</td>\n",
       "      <td>ND</td>\n",
       "      <td>0</td>\n",
       "      <td>0</td>\n",
       "      <td>6.765402</td>\n",
       "      <td>0</td>\n",
       "      <td>0.0</td>\n",
       "      <td>61.964375</td>\n",
       "      <td>0.0</td>\n",
       "      <td>2020-12-31</td>\n",
       "      <td>0.0</td>\n",
       "      <td>0.0</td>\n",
       "    </tr>\n",
       "    <tr>\n",
       "      <th>1</th>\n",
       "      <td>0</td>\n",
       "      <td>65</td>\n",
       "      <td>122753</td>\n",
       "      <td>ND</td>\n",
       "      <td>0</td>\n",
       "      <td>0</td>\n",
       "      <td>6.765402</td>\n",
       "      <td>1</td>\n",
       "      <td>1.0</td>\n",
       "      <td>41.057234</td>\n",
       "      <td>0.0</td>\n",
       "      <td>2021-03-31</td>\n",
       "      <td>0.0</td>\n",
       "      <td>0.0</td>\n",
       "    </tr>\n",
       "    <tr>\n",
       "      <th>2</th>\n",
       "      <td>0</td>\n",
       "      <td>65</td>\n",
       "      <td>122753</td>\n",
       "      <td>ND</td>\n",
       "      <td>0</td>\n",
       "      <td>0</td>\n",
       "      <td>6.765402</td>\n",
       "      <td>2</td>\n",
       "      <td>2.0</td>\n",
       "      <td>71.752128</td>\n",
       "      <td>1.0</td>\n",
       "      <td>2021-06-30</td>\n",
       "      <td>1.0</td>\n",
       "      <td>0.0</td>\n",
       "    </tr>\n",
       "    <tr>\n",
       "      <th>3</th>\n",
       "      <td>0</td>\n",
       "      <td>65</td>\n",
       "      <td>122753</td>\n",
       "      <td>ND</td>\n",
       "      <td>0</td>\n",
       "      <td>0</td>\n",
       "      <td>6.765402</td>\n",
       "      <td>3</td>\n",
       "      <td>3.0</td>\n",
       "      <td>93.129942</td>\n",
       "      <td>1.0</td>\n",
       "      <td>2022-10-31</td>\n",
       "      <td>1.0</td>\n",
       "      <td>0.0</td>\n",
       "    </tr>\n",
       "    <tr>\n",
       "      <th>4</th>\n",
       "      <td>1</td>\n",
       "      <td>79</td>\n",
       "      <td>32977</td>\n",
       "      <td>DC</td>\n",
       "      <td>0</td>\n",
       "      <td>0</td>\n",
       "      <td>3.146723</td>\n",
       "      <td>0</td>\n",
       "      <td>0.0</td>\n",
       "      <td>61.334116</td>\n",
       "      <td>0.0</td>\n",
       "      <td>2020-01-31</td>\n",
       "      <td>0.0</td>\n",
       "      <td>0.0</td>\n",
       "    </tr>\n",
       "  </tbody>\n",
       "</table>\n",
       "</div>"
      ],
      "text/plain": [
       "   customer_id  age  income state  received_re  received_in_store_re  \\\n",
       "0            0   65  122753    ND            0                     0   \n",
       "1            0   65  122753    ND            0                     0   \n",
       "2            0   65  122753    ND            0                     0   \n",
       "3            0   65  122753    ND            0                     0   \n",
       "4            1   79   32977    DC            0                     0   \n",
       "\n",
       "   distance  index  tx_order     amount  in_store     tx_date  is_credit  \\\n",
       "0  6.765402      0       0.0  61.964375       0.0  2020-12-31        0.0   \n",
       "1  6.765402      1       1.0  41.057234       0.0  2021-03-31        0.0   \n",
       "2  6.765402      2       2.0  71.752128       1.0  2021-06-30        1.0   \n",
       "3  6.765402      3       3.0  93.129942       1.0  2022-10-31        1.0   \n",
       "4  3.146723      0       0.0  61.334116       0.0  2020-01-31        0.0   \n",
       "\n",
       "   is_bonus  \n",
       "0       0.0  \n",
       "1       0.0  \n",
       "2       0.0  \n",
       "3       0.0  \n",
       "4       0.0  "
      ]
     },
     "execution_count": 2,
     "metadata": {},
     "output_type": "execute_result"
    }
   ],
   "source": [
    "# TODO: read in data (already filled out for you :)\n",
    "df = pd.read_csv('./tongass_transactions.csv')\n",
    "df.head()"
   ]
  },
  {
   "cell_type": "markdown",
   "id": "80f656a4",
   "metadata": {},
   "source": [
    "<br/>\n",
    "\n",
    "## II. Familiarize yourself with the data set and determine if the causal question is worth investigating (spoiler: it will be)\n",
    "***\n",
    "\n",
    "Before we build any models, we should deeply understand the data set we're working with. \n",
    "\n",
    "In this section, you are free to do anything you would typically do when working with a new set of data; however, at a minimum, we recommend:\n",
    "- Visualizing at least three key distributions (e.g., the number of transactions per customer, the dollar value of transactions/customers, etc.).\n",
    "- Investigating whether the key causal question is worth investigating (e.g., by looking at whether customers who shop in store spend more money overall). One simple way to do this could be by looking at how customer value varies with the proportion of their transactions that occur in a physical store.\n",
    "- Looking at which other variables might relate to customer value (e.g., age, income).\n",
    "\n",
    "To get you started, we visualize a distribution below."
   ]
  },
  {
   "cell_type": "code",
   "execution_count": 3,
   "id": "86928f7f",
   "metadata": {},
   "outputs": [],
   "source": [
    "dfc = df.groupby('customer_id').agg({\n",
    "    'tx_order': 'count',\n",
    "    'amount': 'sum'\n",
    "    }).rename(columns={'tx_order': 'num_transactions', 'amount': 'customer_value'}).reset_index()"
   ]
  },
  {
   "cell_type": "code",
   "execution_count": 6,
   "id": "c14eb71f",
   "metadata": {},
   "outputs": [
    {
     "data": {
      "image/png": "[encoded data removed]",
      "text/plain": [
       "<Figure size 1000x500 with 1 Axes>"
      ]
     },
     "metadata": {},
     "output_type": "display_data"
    }
   ],
   "source": [
    "fig, ax = plt.subplots(1, 1, figsize=(10, 5))\n",
    "\n",
    "sns.histplot(dfc['num_transactions'], ax=ax)\n",
    "ax.set(\n",
    "    xlabel='',\n",
    "    ylabel='',\n",
    "    title='Number of customers with X transactions'\n",
    ");"
   ]
  },
  {
   "cell_type": "code",
   "execution_count": 5,
   "id": "36c9abbd",
   "metadata": {},
   "outputs": [],
   "source": [
    "# TODO: visualize a key distribution (e.g., dollar value per customer, dollar value per customer cohort, etc.)"
   ]
  },
  {
   "cell_type": "code",
   "execution_count": 27,
   "id": "95c49760-3136-4bd0-a564-1aed295f2ede",
   "metadata": {},
   "outputs": [
    {
     "data": {
      "text/html": [
       "<div>\n",
       "<style scoped>\n",
       "    .dataframe tbody tr th:only-of-type {\n",
       "        vertical-align: middle;\n",
       "    }\n",
       "\n",
       "    .dataframe tbody tr th {\n",
       "        vertical-align: top;\n",
       "    }\n",
       "\n",
       "    .dataframe thead th {\n",
       "        text-align: right;\n",
       "    }\n",
       "</style>\n",
       "<table border=\"1\" class=\"dataframe\">\n",
       "  <thead>\n",
       "    <tr style=\"text-align: right;\">\n",
       "      <th></th>\n",
       "      <th>customer_id</th>\n",
       "      <th>age</th>\n",
       "      <th>income</th>\n",
       "      <th>state</th>\n",
       "      <th>distance</th>\n",
       "      <th>num_transactions</th>\n",
       "      <th>customer_value</th>\n",
       "      <th>percent_in_store</th>\n",
       "      <th>percent_credit</th>\n",
       "    </tr>\n",
       "  </thead>\n",
       "  <tbody>\n",
       "    <tr>\n",
       "      <th>0</th>\n",
       "      <td>0</td>\n",
       "      <td>65</td>\n",
       "      <td>122753</td>\n",
       "      <td>ND</td>\n",
       "      <td>6.765402</td>\n",
       "      <td>4</td>\n",
       "      <td>267.903678</td>\n",
       "      <td>0.500000</td>\n",
       "      <td>0.500000</td>\n",
       "    </tr>\n",
       "    <tr>\n",
       "      <th>1</th>\n",
       "      <td>1</td>\n",
       "      <td>79</td>\n",
       "      <td>32977</td>\n",
       "      <td>DC</td>\n",
       "      <td>3.146723</td>\n",
       "      <td>17</td>\n",
       "      <td>1604.529401</td>\n",
       "      <td>0.823529</td>\n",
       "      <td>0.823529</td>\n",
       "    </tr>\n",
       "    <tr>\n",
       "      <th>2</th>\n",
       "      <td>2</td>\n",
       "      <td>23</td>\n",
       "      <td>45734</td>\n",
       "      <td>WI</td>\n",
       "      <td>1.578430</td>\n",
       "      <td>4</td>\n",
       "      <td>302.195168</td>\n",
       "      <td>0.750000</td>\n",
       "      <td>0.750000</td>\n",
       "    </tr>\n",
       "    <tr>\n",
       "      <th>3</th>\n",
       "      <td>3</td>\n",
       "      <td>46</td>\n",
       "      <td>34358</td>\n",
       "      <td>IL</td>\n",
       "      <td>5.121281</td>\n",
       "      <td>7</td>\n",
       "      <td>511.422005</td>\n",
       "      <td>0.428571</td>\n",
       "      <td>0.857143</td>\n",
       "    </tr>\n",
       "    <tr>\n",
       "      <th>4</th>\n",
       "      <td>4</td>\n",
       "      <td>24</td>\n",
       "      <td>47111</td>\n",
       "      <td>TN</td>\n",
       "      <td>7.128278</td>\n",
       "      <td>8</td>\n",
       "      <td>705.293409</td>\n",
       "      <td>0.500000</td>\n",
       "      <td>0.875000</td>\n",
       "    </tr>\n",
       "    <tr>\n",
       "      <th>...</th>\n",
       "      <td>...</td>\n",
       "      <td>...</td>\n",
       "      <td>...</td>\n",
       "      <td>...</td>\n",
       "      <td>...</td>\n",
       "      <td>...</td>\n",
       "      <td>...</td>\n",
       "      <td>...</td>\n",
       "      <td>...</td>\n",
       "    </tr>\n",
       "    <tr>\n",
       "      <th>24995</th>\n",
       "      <td>24995</td>\n",
       "      <td>21</td>\n",
       "      <td>135539</td>\n",
       "      <td>MD</td>\n",
       "      <td>8.008622</td>\n",
       "      <td>2</td>\n",
       "      <td>225.859608</td>\n",
       "      <td>1.000000</td>\n",
       "      <td>1.000000</td>\n",
       "    </tr>\n",
       "    <tr>\n",
       "      <th>24996</th>\n",
       "      <td>24996</td>\n",
       "      <td>62</td>\n",
       "      <td>239519</td>\n",
       "      <td>OR</td>\n",
       "      <td>15.598260</td>\n",
       "      <td>2</td>\n",
       "      <td>179.643234</td>\n",
       "      <td>0.500000</td>\n",
       "      <td>1.000000</td>\n",
       "    </tr>\n",
       "    <tr>\n",
       "      <th>24997</th>\n",
       "      <td>24997</td>\n",
       "      <td>36</td>\n",
       "      <td>237443</td>\n",
       "      <td>VT</td>\n",
       "      <td>7.001417</td>\n",
       "      <td>7</td>\n",
       "      <td>577.356105</td>\n",
       "      <td>0.857143</td>\n",
       "      <td>0.571429</td>\n",
       "    </tr>\n",
       "    <tr>\n",
       "      <th>24998</th>\n",
       "      <td>24998</td>\n",
       "      <td>19</td>\n",
       "      <td>62036</td>\n",
       "      <td>LA</td>\n",
       "      <td>7.991129</td>\n",
       "      <td>5</td>\n",
       "      <td>364.473408</td>\n",
       "      <td>0.200000</td>\n",
       "      <td>1.000000</td>\n",
       "    </tr>\n",
       "    <tr>\n",
       "      <th>24999</th>\n",
       "      <td>24999</td>\n",
       "      <td>56</td>\n",
       "      <td>67270</td>\n",
       "      <td>WA</td>\n",
       "      <td>29.041969</td>\n",
       "      <td>5</td>\n",
       "      <td>395.877662</td>\n",
       "      <td>0.400000</td>\n",
       "      <td>1.000000</td>\n",
       "    </tr>\n",
       "  </tbody>\n",
       "</table>\n",
       "<p>25000 rows × 9 columns</p>\n",
       "</div>"
      ],
      "text/plain": [
       "       customer_id  age  income state   distance  num_transactions  \\\n",
       "0                0   65  122753    ND   6.765402                 4   \n",
       "1                1   79   32977    DC   3.146723                17   \n",
       "2                2   23   45734    WI   1.578430                 4   \n",
       "3                3   46   34358    IL   5.121281                 7   \n",
       "4                4   24   47111    TN   7.128278                 8   \n",
       "...            ...  ...     ...   ...        ...               ...   \n",
       "24995        24995   21  135539    MD   8.008622                 2   \n",
       "24996        24996   62  239519    OR  15.598260                 2   \n",
       "24997        24997   36  237443    VT   7.001417                 7   \n",
       "24998        24998   19   62036    LA   7.991129                 5   \n",
       "24999        24999   56   67270    WA  29.041969                 5   \n",
       "\n",
       "       customer_value  percent_in_store  percent_credit  \n",
       "0          267.903678          0.500000        0.500000  \n",
       "1         1604.529401          0.823529        0.823529  \n",
       "2          302.195168          0.750000        0.750000  \n",
       "3          511.422005          0.428571        0.857143  \n",
       "4          705.293409          0.500000        0.875000  \n",
       "...               ...               ...             ...  \n",
       "24995      225.859608          1.000000        1.000000  \n",
       "24996      179.643234          0.500000        1.000000  \n",
       "24997      577.356105          0.857143        0.571429  \n",
       "24998      364.473408          0.200000        1.000000  \n",
       "24999      395.877662          0.400000        1.000000  \n",
       "\n",
       "[25000 rows x 9 columns]"
      ]
     },
     "execution_count": 27,
     "metadata": {},
     "output_type": "execute_result"
    }
   ],
   "source": [
    "df_by_customer = df.groupby('customer_id').agg({\n",
    "    'age': 'first',\n",
    "    'income': 'first',\n",
    "    'state': 'first',\n",
    "    'distance': 'first',\n",
    "    'tx_order': 'count',\n",
    "    'amount': 'sum',\n",
    "    'in_store': 'mean',\n",
    "    'is_credit': 'mean',\n",
    "}).reset_index()\n",
    "\n",
    "df_by_customer = df_by_customer.rename(\n",
    "    columns = {\n",
    "        'tx_order': 'num_transactions',\n",
    "        'amount': 'customer_value',\n",
    "        'in_store': 'percent_in_store',\n",
    "        'is_credit': 'percent_credit',\n",
    "    }\n",
    ")\n",
    "\n",
    "df_by_customer"
   ]
  },
  {
   "cell_type": "code",
   "execution_count": 34,
   "id": "cf013178-0566-44a4-a617-be5843113377",
   "metadata": {},
   "outputs": [
    {
     "data": {
      "image/png": "[encoded data removed]",
      "text/plain": [
       "<Figure size 1000x500 with 1 Axes>"
      ]
     },
     "metadata": {},
     "output_type": "display_data"
    }
   ],
   "source": [
    "fig, ax = plt.subplots(1, 1, figsize=(10, 5))\n",
    "\n",
    "sns.histplot(df_by_customer['customer_value'], ax=ax)\n",
    "ax.set(\n",
    "    xlabel='Total purchase value',\n",
    "    ylabel='Number of customers',\n",
    "    title='Number of customers by total purchase value'\n",
    ");"
   ]
  },
  {
   "cell_type": "code",
   "execution_count": 32,
   "id": "52d4d316-fe99-427a-9175-8178e9abd8b4",
   "metadata": {},
   "outputs": [
    {
     "data": {
      "image/png": "[encoded data removed]",
      "text/plain": [
       "<Figure size 1000x500 with 1 Axes>"
      ]
     },
     "metadata": {},
     "output_type": "display_data"
    }
   ],
   "source": [
    "fig, ax = plt.subplots(1, 1, figsize=(10, 5))\n",
    "\n",
    "sns.histplot(df_by_customer['income'], ax=ax)\n",
    "ax.set(\n",
    "    xlabel='Income',\n",
    "    ylabel='Number of customers',\n",
    "    title='Number of customers by income level'\n",
    ");"
   ]
  },
  {
   "cell_type": "code",
   "execution_count": 33,
   "id": "72fb34a8-868b-4d5a-90cf-2b281d9502bc",
   "metadata": {},
   "outputs": [
    {
     "data": {
      "image/png": "[encoded data removed]",
      "text/plain": [
       "<Figure size 1000x500 with 1 Axes>"
      ]
     },
     "metadata": {},
     "output_type": "display_data"
    }
   ],
   "source": [
    "fig, ax = plt.subplots(1, 1, figsize=(10, 5))\n",
    "\n",
    "sns.histplot(df_by_customer['distance'], ax=ax)\n",
    "ax.set(\n",
    "    xlabel='Distance',\n",
    "    ylabel='Number of customers',\n",
    "    title='Number of customers by distance from a store'\n",
    ");"
   ]
  },
  {
   "cell_type": "code",
   "execution_count": 35,
   "id": "1a84137a-2ca7-4df5-b93c-e2cdedba97cc",
   "metadata": {},
   "outputs": [
    {
     "data": {
      "image/png": "[encoded data removed]",
      "text/plain": [
       "<Figure size 1000x500 with 1 Axes>"
      ]
     },
     "metadata": {},
     "output_type": "display_data"
    }
   ],
   "source": [
    "fig, ax = plt.subplots(1, 1, figsize=(10, 5))\n",
    "\n",
    "sns.histplot(df_by_customer['percent_in_store'], ax=ax)\n",
    "ax.set(\n",
    "    xlabel='Percent of in-store purchases',\n",
    "    ylabel='Number of customers',\n",
    "    title='Number of customers by percent of in-store purchases'\n",
    ");"
   ]
  },
  {
   "cell_type": "code",
   "execution_count": 36,
   "id": "e94c2d13-0ca3-4942-ba1e-3b2004e96121",
   "metadata": {},
   "outputs": [
    {
     "data": {
      "image/png": "[encoded data removed]",
      "text/plain": [
       "<Figure size 1000x500 with 1 Axes>"
      ]
     },
     "metadata": {},
     "output_type": "display_data"
    }
   ],
   "source": [
    "fig, ax = plt.subplots(1, 1, figsize=(10, 5))\n",
    "\n",
    "sns.histplot(df_by_customer['age'], ax=ax)\n",
    "ax.set(\n",
    "    xlabel='Age',\n",
    "    ylabel='Number of customers',\n",
    "    title='Number of customers by age'\n",
    ");"
   ]
  },
  {
   "cell_type": "code",
   "execution_count": 23,
   "id": "b3c2265b",
   "metadata": {},
   "outputs": [],
   "source": [
    "# TODO: determine if customer value seems correlated with in-store shopping"
   ]
  },
  {
   "cell_type": "code",
   "execution_count": 25,
   "id": "3ebdff34-57e3-4f9e-8aea-35011822f088",
   "metadata": {},
   "outputs": [
    {
     "data": {
      "image/png": "[encoded data removed]",
      "text/plain": [
       "<Figure size 500x500 with 1 Axes>"
      ]
     },
     "metadata": {},
     "output_type": "display_data"
    }
   ],
   "source": [
    "sns.catplot(data=df, x='in_store', y='amount');"
   ]
  },
  {
   "cell_type": "code",
   "execution_count": 7,
   "id": "146434c2",
   "metadata": {},
   "outputs": [],
   "source": [
    "# TODO: determine if other variables (e.g., number of transactions, age, distance, etc.)\n",
    "# seems correlated with in-store shopping"
   ]
  },
  {
   "cell_type": "markdown",
   "id": "bf780ea9",
   "metadata": {},
   "source": [
    "## III. Decide how you will approach the causal question of interest and manipulate the data accordingly\n",
    "***\n",
    "\n",
    "As you have likely noticed, our Tongass executive asked us a fairly high-level strategic question. They are broadly interested in the relationship between in-store shopping and customer value, but beyond that, they didn't provide additional structure.\n",
    "\n",
    "In reality, you would have asked them additional follow-ups about how exactly this analysis would inform decision-making, but regardless, \"translating\" between vague high-level questions and the concrete act of preparing a statistical model is one of the main ways data scientists add value!\n",
    "\n",
    "So let's do it."
   ]
  },
  {
   "cell_type": "markdown",
   "id": "dcbd7ff4",
   "metadata": {},
   "source": [
    "### Approach 1\n",
    "\n",
    "To start, let's think about the ways you could approach this problem. One simple way might be to say, \"Well, we have a bunch of transactions data. We could simply aggregate it at the customer level and see whether customers who have a higher in-store shopping rate are more valuable.\"\n",
    "\n",
    "In that case, the data would look something like this..."
   ]
  },
  {
   "cell_type": "code",
   "execution_count": 8,
   "id": "9270dc33",
   "metadata": {},
   "outputs": [
    {
     "name": "stdout",
     "output_type": "stream",
     "text": [
      "(25000, 4)\n"
     ]
    },
    {
     "data": {
      "text/html": [
       "<div>\n",
       "<style scoped>\n",
       "    .dataframe tbody tr th:only-of-type {\n",
       "        vertical-align: middle;\n",
       "    }\n",
       "\n",
       "    .dataframe tbody tr th {\n",
       "        vertical-align: top;\n",
       "    }\n",
       "\n",
       "    .dataframe thead th {\n",
       "        text-align: right;\n",
       "    }\n",
       "</style>\n",
       "<table border=\"1\" class=\"dataframe\">\n",
       "  <thead>\n",
       "    <tr style=\"text-align: right;\">\n",
       "      <th></th>\n",
       "      <th>customer_id</th>\n",
       "      <th>in_store</th>\n",
       "      <th>amount</th>\n",
       "      <th>tx_order</th>\n",
       "    </tr>\n",
       "  </thead>\n",
       "  <tbody>\n",
       "    <tr>\n",
       "      <th>0</th>\n",
       "      <td>0</td>\n",
       "      <td>0.500000</td>\n",
       "      <td>267.903678</td>\n",
       "      <td>3.0</td>\n",
       "    </tr>\n",
       "    <tr>\n",
       "      <th>1</th>\n",
       "      <td>1</td>\n",
       "      <td>0.823529</td>\n",
       "      <td>1604.529401</td>\n",
       "      <td>16.0</td>\n",
       "    </tr>\n",
       "    <tr>\n",
       "      <th>2</th>\n",
       "      <td>2</td>\n",
       "      <td>0.750000</td>\n",
       "      <td>302.195168</td>\n",
       "      <td>3.0</td>\n",
       "    </tr>\n",
       "    <tr>\n",
       "      <th>3</th>\n",
       "      <td>3</td>\n",
       "      <td>0.428571</td>\n",
       "      <td>511.422005</td>\n",
       "      <td>6.0</td>\n",
       "    </tr>\n",
       "    <tr>\n",
       "      <th>4</th>\n",
       "      <td>4</td>\n",
       "      <td>0.500000</td>\n",
       "      <td>705.293409</td>\n",
       "      <td>7.0</td>\n",
       "    </tr>\n",
       "  </tbody>\n",
       "</table>\n",
       "</div>"
      ],
      "text/plain": [
       "   customer_id  in_store       amount  tx_order\n",
       "0            0  0.500000   267.903678       3.0\n",
       "1            1  0.823529  1604.529401      16.0\n",
       "2            2  0.750000   302.195168       3.0\n",
       "3            3  0.428571   511.422005       6.0\n",
       "4            4  0.500000   705.293409       7.0"
      ]
     },
     "execution_count": 8,
     "metadata": {},
     "output_type": "execute_result"
    }
   ],
   "source": [
    "df_model1 = df.groupby('customer_id').agg({\n",
    "    'in_store': 'mean', # the rate at which customer shops in store (treatment variable)\n",
    "    'amount': 'sum', # the total amount a customer has spent (control variable)\n",
    "    'tx_order': 'max', # a key control — the number of transactions this customer makes\n",
    "    # TODO: if you choose this approach, figure out how to construct the rest of the data set, \n",
    "    # including key variables like distance, age, etc.\n",
    "}).reset_index()\n",
    "\n",
    "print(df_model1.shape)\n",
    "df_model1.head()"
   ]
  },
  {
   "cell_type": "markdown",
   "id": "ddfcf8a9",
   "metadata": {},
   "source": [
    "Approaching the data this way would translate to the following causal problem: **\"If we can boost the rate at which the typical customer shops in person, how does their long-run value change?\"**\n",
    "\n",
    "A couple of notes:\n",
    "1. We're not preparing the data set for you completely — where would the fun be in that? ;)\n",
    "2. Even in this formulation of the problem, there are still additional choices for us to make. For example, rather than looking at the \"in-store shopping rate,\" we could look at whether a customer ever had *any* in-store transaction. Both decisions are reasonable, and both would communicate something slightly different. It's up to us to decide which concept is more meaningful given the data we have and the strategic decisions we wish to inform. (Don't worry about changing the above code to account for this note — this is mostly to point out there are many subtle ways we can construct data.)"
   ]
  },
  {
   "cell_type": "markdown",
   "id": "b2a966fd",
   "metadata": {},
   "source": [
    "### Approach 2\n",
    "\n",
    "Alternatively, it could be more elegant (albeit complex) to reframe this problem as happening at a specific point in time to a specific population.\n",
    "\n",
    "In particular, rather than looking at the data set as a whole, we could pick an arbitrary month and say, **\"Hey, let's consider all the customers who only ever shopped online up till that point. The 'treatment' will then be shopping in person for the first time during that month of interest.\"**\n",
    "\n",
    "The bones of this data manipulation would look something like this..."
   ]
  },
  {
   "cell_type": "code",
   "execution_count": 9,
   "id": "107d6760",
   "metadata": {},
   "outputs": [],
   "source": [
    "df_model2 = df.copy()\n",
    "date_range = np.sort(df_model2['tx_date'].unique())\n",
    "\n",
    "# arbitrarily take middle of date range as month of \"intervention\"\n",
    "intervention_month = date_range[len(date_range)//2]\n",
    "\n",
    "# get customers who had a transaction in month of \"intervention\"\n",
    "customers = df_model2[df_model2['tx_date'] == intervention_month][['customer_id', 'in_store']]\n",
    "\n",
    "df_model2['pre_intervention'] = df_model2['tx_date'] < intervention_month\n",
    "\n",
    "df_model2 = df_model2.groupby(['customer_id', 'pre_intervention']).agg({\n",
    "    'in_store': 'max',\n",
    "    'amount': 'sum',\n",
    "    'tx_order': 'max' # count number of transactions for this customer\n",
    "    # TODO: if you choose this approach, figure out how to construct the rest of the data set, \n",
    "    # including key variables like distance, age, etc.\n",
    "}).reset_index()"
   ]
  },
  {
   "cell_type": "code",
   "execution_count": 10,
   "id": "cd5a48a4",
   "metadata": {},
   "outputs": [
    {
     "name": "stdout",
     "output_type": "stream",
     "text": [
      "(698, 5)\n"
     ]
    },
    {
     "data": {
      "text/html": [
       "<div>\n",
       "<style scoped>\n",
       "    .dataframe tbody tr th:only-of-type {\n",
       "        vertical-align: middle;\n",
       "    }\n",
       "\n",
       "    .dataframe tbody tr th {\n",
       "        vertical-align: top;\n",
       "    }\n",
       "\n",
       "    .dataframe thead th {\n",
       "        text-align: right;\n",
       "    }\n",
       "</style>\n",
       "<table border=\"1\" class=\"dataframe\">\n",
       "  <thead>\n",
       "    <tr style=\"text-align: right;\">\n",
       "      <th></th>\n",
       "      <th>customer_id</th>\n",
       "      <th>pre_intervention</th>\n",
       "      <th>tx_order</th>\n",
       "      <th>in_store</th>\n",
       "      <th>amount</th>\n",
       "    </tr>\n",
       "  </thead>\n",
       "  <tbody>\n",
       "    <tr>\n",
       "      <th>0</th>\n",
       "      <td>64</td>\n",
       "      <td>True</td>\n",
       "      <td>1.0</td>\n",
       "      <td>1.0</td>\n",
       "      <td>233.056367</td>\n",
       "    </tr>\n",
       "    <tr>\n",
       "      <th>1</th>\n",
       "      <td>67</td>\n",
       "      <td>True</td>\n",
       "      <td>0.0</td>\n",
       "      <td>1.0</td>\n",
       "      <td>263.104737</td>\n",
       "    </tr>\n",
       "    <tr>\n",
       "      <th>2</th>\n",
       "      <td>84</td>\n",
       "      <td>True</td>\n",
       "      <td>1.0</td>\n",
       "      <td>1.0</td>\n",
       "      <td>271.067656</td>\n",
       "    </tr>\n",
       "    <tr>\n",
       "      <th>3</th>\n",
       "      <td>95</td>\n",
       "      <td>True</td>\n",
       "      <td>3.0</td>\n",
       "      <td>1.0</td>\n",
       "      <td>218.513530</td>\n",
       "    </tr>\n",
       "    <tr>\n",
       "      <th>4</th>\n",
       "      <td>139</td>\n",
       "      <td>True</td>\n",
       "      <td>0.0</td>\n",
       "      <td>1.0</td>\n",
       "      <td>148.357707</td>\n",
       "    </tr>\n",
       "  </tbody>\n",
       "</table>\n",
       "</div>"
      ],
      "text/plain": [
       "   customer_id  pre_intervention  tx_order  in_store      amount\n",
       "0           64              True       1.0       1.0  233.056367\n",
       "1           67              True       0.0       1.0  263.104737\n",
       "2           84              True       1.0       1.0  271.067656\n",
       "3           95              True       3.0       1.0  218.513530\n",
       "4          139              True       0.0       1.0  148.357707"
      ]
     },
     "execution_count": 10,
     "metadata": {},
     "output_type": "execute_result"
    }
   ],
   "source": [
    "# filter to customers who only shopped online before \"intervention\"\n",
    "df_model2_pre = df_model2[(df_model2['pre_intervention'] == True) & (df_model2['in_store'] == 0)].drop(columns=['amount', 'in_store'])\n",
    "\n",
    "# join on relevant customer population and get \"treatment\" — whether they\n",
    "# shopped in store or online during relevant month\n",
    "df_model2_pre = pd.merge(df_model2_pre, customers, on='customer_id', how='inner')\n",
    "\n",
    "# get outcome for above customers\n",
    "df_model2_post = df_model2[df_model2['pre_intervention'] == False][['customer_id', 'amount']]\n",
    "\n",
    "# combine these data sets\n",
    "df_model2_final = pd.merge(df_model2_pre, df_model2_post, how='left', on='customer_id').fillna(0)\n",
    "\n",
    "print(df_model2_final.shape)\n",
    "df_model2_final.head()"
   ]
  },
  {
   "cell_type": "markdown",
   "id": "cd55d6ea",
   "metadata": {},
   "source": [
    "The code is much more complicated, but it elegantly maps to the following causal question: **\"If we convince a purely online shopper to buy something in a store, how much extra value does that generate in the long-run?\"**\n",
    "\n",
    "That's an interesting (and actionable!) question, so it could be worth the data munging pain. Whether you agree is up to you ;)\n",
    "\n",
    "Also note that this approach _does_ involve throwing out a lot of data. In a future version of this analysis, it might be worth thinking about whether there are ways to structure the problem so that we throw out less, or, if you go down this path, to consider repeating this analysis for different months to see if the result is robust.\n",
    "\n",
    "**NOTE**: If this framing of the problem seems at all confusing, don't worry! Just go with Approach 1."
   ]
  },
  {
   "cell_type": "markdown",
   "id": "b76e8161",
   "metadata": {},
   "source": [
    "### Note on Step III\n",
    "\n",
    "There's a reason we're spending a lot of time on this section. It might seem silly, but this is often the most complex part of any modeling problem. Once you have your data in place, fitting models and deciding which works best is often a more straightforward task! (as you'll hopefully soon see :)"
   ]
  },
  {
   "cell_type": "markdown",
   "id": "2e594ce9",
   "metadata": {},
   "source": [
    "## IV. Fit a simple (!) baseline model\n",
    "***\n",
    "\n",
    "Woohoo! We can finally start modeling.\n",
    "\n",
    "Fit the simplest possible model you can using `statsmodels` (we recommend a call to [`smf.ols`](https://www.statsmodels.org/stable/example_formulas.html) like we used in the written material). The model should be your outcome regressed against your treatment (and that's it!).\n",
    "\n",
    "You should see an extremely strong and statistically significant effect. But, of course, a lot of that is simply selection bias, as we'll see."
   ]
  },
  {
   "cell_type": "code",
   "execution_count": 11,
   "id": "fb14b844",
   "metadata": {},
   "outputs": [],
   "source": [
    "# TODO: fit a simple model — just outcome on one side and treatment on the other\n",
    "# CHECK: if you go with Approach 1, your treatment effect should be ~495; if you go with Approach 2,\n",
    "# your treatment effect should be ~38"
   ]
  },
  {
   "cell_type": "markdown",
   "id": "75e23474",
   "metadata": {},
   "source": [
    "## V. Address omitted variable bias (OVB) by interrogating residuals and fitting more complicated models\n",
    "***\n",
    "\n",
    "Now that we have a baseline model, we can improve it. This is usually an iterative process.\n",
    "\n",
    "One useful way to get a handle on OVB is by investigating the residuals in our models. In a \"complete\" model, it should be hard to find patterns in our residuals. They should look like random noise regardless of which missing variables we plot them against. In an \"incomplete\" model, finding patterns in our residuals should be easier.\n",
    "\n",
    "So let's try it.\n",
    "\n",
    "Plot the residuals of your simple model against key missing explanatory variables (e.g., age, the number of transactions a customer has, etc.). If you see strong patterns, then it suggests we haven't yet achieved conditional independence. Add important variables to your simple model and \"build up\" to a more complete one, paying special attention to how our effect size and R-squared change over time (the former should eventually stabilize and the latter should increase).\n",
    "\n",
    "If you haven't come across seaborn's `lmplot` function before, it might be helpful here: https://seaborn.pydata.org/generated/seaborn.lmplot.html"
   ]
  },
  {
   "cell_type": "code",
   "execution_count": 12,
   "id": "779922af",
   "metadata": {},
   "outputs": [],
   "source": [
    "# TODO: plot residuals from simple model against a key missing variable (e.g., age,\n",
    "# income, number of transactions, etc.)"
   ]
  },
  {
   "cell_type": "code",
   "execution_count": 13,
   "id": "fb0fca4f",
   "metadata": {},
   "outputs": [],
   "source": [
    "# TODO: fit another regression that incorporates this missing variable"
   ]
  },
  {
   "cell_type": "code",
   "execution_count": 14,
   "id": "59feb2c1",
   "metadata": {},
   "outputs": [],
   "source": [
    "# TODO: repeat above steps for additional variables (e.g., plot residuals from more complex model against\n",
    "# key missing variables). build up to a more complicated and complete model in an iterative way\n",
    "\n",
    "# CHECK: Depending on how many controls you include in your final model, your estimated treatment effect\n",
    "# for Approach 1 should be ~46, and your estimated treatment effect for Approach 2 should be ~37. That said,\n",
    "# there is room for variation here depending on the controls you ultimately decide to include"
   ]
  },
  {
   "cell_type": "markdown",
   "id": "feade62f",
   "metadata": {},
   "source": [
    "## VI. Compare baseline model with more complicated models and \"pick\" your favorite\n",
    "***\n",
    "\n",
    "At this point, it's useful hygiene to take a step back and look at your models in a more systematic way.\n",
    "\n",
    "In particular, you might consider the following questions as you review the regression output above:\n",
    "- Which variables are your biggest confounders? Which are useful controls but aren't true confounders (i.e., they don't much change your estimate for the treatment effect)?\n",
    "- Has your treatment effect \"stabilized\" across models, even as you've made them more complex?\n",
    "- Has your treatment effect remained significant, both in statistical and practical terms?\n",
    "- Has the R-squared increased? Or is there still a lot of unexplained variation? Could that unexplained variation plausibly be due to randomness, or are we likely missing important confounding variables? (If we're likely missing important confounding variables, then we should be careful in how we communicate the results. We might consider them preliminary rather than definitive.)"
   ]
  },
  {
   "cell_type": "code",
   "execution_count": 15,
   "id": "585dd701",
   "metadata": {},
   "outputs": [],
   "source": [
    "# compare models and pick our favorite (remember Einstein's maxim: \"everything \n",
    "# should be made as simple as possible, but no simpler\")\n",
    "\n",
    "# TODO: output the regression summary of the model you ultimately selected"
   ]
  },
  {
   "cell_type": "markdown",
   "id": "5d2a52f4",
   "metadata": {},
   "source": [
    "## VII. Consolidate the analysis you performed above so it's useful for a stakeholder\n",
    "***\n",
    "\n",
    "### Congratulations!\n",
    "\n",
    "You've done a ton of incredible work. Now, it's time to package it all together so our Tongass executive can follow along.\n",
    "\n",
    "This step often feels like doing an analysis \"in reverse.\" We don't want to step someone through all the logic we just went through to arrive at our answer (as tempting as that might be). We want to share our answer **first,** then help our stakeholders understand it intuitively by sharing visuals and explaining how confident we can be.\n",
    "\n",
    "Here is a set of suggested steps, but feel free to tweak as you see fit:\n",
    "- Share the results from your final model, making sure to put the results in **business terms** (e.g., \"getting an online customer to shop in store boosts the value of our customer base by X; if we can convince 100 online customers to shop in person, we can expect between Y and Z in additional lifetime value\")\n",
    "- Show key visuals to help someone grok the relationship intuitively\n",
    "- Comment on our degree of confidence of results, both in quantitative terms (e.g., confidence interval) and qualitative terms (e.g., \"model seems robust/sensitive to controls, which means we can be confident/should consider this a preliminary hypothesis warranting deeper experimentation\")"
   ]
  },
  {
   "cell_type": "code",
   "execution_count": 16,
   "id": "5d83e986",
   "metadata": {},
   "outputs": [],
   "source": [
    "# TODO: change this cell to a markdown cell and write an \"executive summary\" that\n",
    "# explains your results"
   ]
  },
  {
   "cell_type": "code",
   "execution_count": 17,
   "id": "48be7859",
   "metadata": {},
   "outputs": [],
   "source": [
    "# TODO: output a key visual (either from above or a new one) that you think communicates\n",
    "# your results in a statistically responsible way (tip: it can sometimes be worth\n",
    "# visualizing how the \"average\" treated customer differs from the\n",
    "# \"average\" untreated customer)"
   ]
  },
  {
   "cell_type": "code",
   "execution_count": 18,
   "id": "ca5b0f92",
   "metadata": {},
   "outputs": [],
   "source": [
    "# TODO: change this cell to a markdown cell and write a blurb on how confident you\n",
    "# are in your results and why"
   ]
  },
  {
   "cell_type": "markdown",
   "id": "8c0e469b",
   "metadata": {},
   "source": [
    "## VIII. OPTIONAL: Consider additional analysis steps\n",
    "***\n",
    "1. We would highly recommend tackling this problem in multiple ways to see how it changes your analysis. For example, if you used the first approach for transforming data, maybe considering trying the second. Think about which question each approach answers, and which is more actionable in a business context. Try others we might not have considered. \n",
    "2. In the written material for Week 1, we considered the \"OVB equation,\" which allows us to quantify OVB in \"short\" models by connecting them to \"long\" models. We didn't explicitly leverage the OVB equation in this project, but we implicitly did. That said, it could be worth leveraging it directly so you can become more comfortable applying it and thinking about OVB intuitively. Consider quantifying the OVB that results from leaving out \"age\" in your simple model.\n",
    "3. We didn't cover log transformations in Week 1, but they can sometimes be helpful if we want to analyze causal relationships in percentage terms. Read [this](https://data.library.virginia.edu/interpreting-log-transformations-in-a-linear-model/) and consider changing your analysis approach accordingly to answer our causal question somewhat differently."
   ]
  },
  {
   "cell_type": "markdown",
   "id": "57c8bcc3",
   "metadata": {},
   "source": [
    "## IX. EXTREMELY OPTIONAL: Tackle another problem\n",
    "***\n",
    "\n",
    "When it comes to learning causal inference, there is no substitute for practice. We would strongly support finding data sets in the wild (e.g. [here](https://docs.google.com/spreadsheets/d/1wZhPLMCHKJvwOkP4juclhjFgqIY8fQFMemwKL2c64vk/edit#gid=0), [here](https://ourworldindata.org/), or [here](https://github.com/awesomedata/awesome-public-datasets)) and using the same general framework we leveraged here toward a causal question you're interested in."
   ]
  }
 ],
 "metadata": {
  "kernelspec": {
   "display_name": "CoRise Causal Inference",
   "language": "python",
   "name": "corise-causal-inference"
  },
  "language_info": {
   "codemirror_mode": {
    "name": "ipython",
    "version": 3
   },
   "file_extension": ".py",
   "mimetype": "text/x-python",
   "name": "python",
   "nbconvert_exporter": "python",
   "pygments_lexer": "ipython3",
   "version": "3.11.3"
  }
 },
 "nbformat": 4,
 "nbformat_minor": 5
}
