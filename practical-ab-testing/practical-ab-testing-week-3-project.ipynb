{
 "cells": [
  {
   "cell_type": "markdown",
   "id": "06599c44",
   "metadata": {
    "id": "06599c44"
   },
   "source": [
    "# CoRise Practice A/B Testing Course: Project 3"
   ]
  },
  {
   "cell_type": "markdown",
   "id": "822fd3cb",
   "metadata": {
    "id": "822fd3cb"
   },
   "source": [
    "## Setup"
   ]
  },
  {
   "cell_type": "markdown",
   "id": "91d9fc1a",
   "metadata": {
    "id": "91d9fc1a"
   },
   "source": [
    "Import libraries"
   ]
  },
  {
   "cell_type": "code",
   "execution_count": 1,
   "id": "1acd95cd",
   "metadata": {
    "id": "1acd95cd"
   },
   "outputs": [],
   "source": [
    "# Libary basics\n",
    "import numpy as np\n",
    "import pandas as pd\n",
    "import scipy.stats as stats # For pvalue\n",
    "import math # For power calculation"
   ]
  },
  {
   "cell_type": "markdown",
   "id": "40d433b5",
   "metadata": {
    "id": "40d433b5"
   },
   "source": [
    "Helper function to get the 95% confidence interval. Inputs:\n",
    "* Mean treatment - average conversion rate of the treatment group\n",
    "* Mean control - average conversion rate of the control group\n",
    "* N treatment - number of samples in the treatment group\n",
    "* N control - number of samples in the control group\n",
    "* ci = The width of the confidence interval. 0.95 by default\n",
    "\n",
    "You can read more about the math behind the confidence interval function [here](https://s3.amazonaws.com/assets.datacamp.com/production/course_6165/slides/chapter4.pdf)."
   ]
  },
  {
   "cell_type": "code",
   "execution_count": 2,
   "id": "7c6274bf",
   "metadata": {
    "id": "7c6274bf"
   },
   "outputs": [],
   "source": [
    "def get_ci(mean_treatment, mean_control, n_treatment, n_control, ci = 0.95):\n",
    "    sd = ((mean_treatment * (1 - mean_treatment)) / n_treatment + (mean_control * (1 - mean_control)) / n_control)**0.5\n",
    "    lift = mean_treatment - mean_control\n",
    "    val = stats.norm.isf((1 - ci) / 2)\n",
    "    lwr_bnd = lift - val * sd\n",
    "    upr_bnd = lift + val * sd\n",
    "    return((lwr_bnd, upr_bnd))"
   ]
  },
  {
   "cell_type": "markdown",
   "id": "18ea0e24",
   "metadata": {
    "id": "18ea0e24"
   },
   "source": [
    "Helper function to calcuate the results. It will compute and return the relative and absolute lift between variant and control, p-value, and lower and upper bound for the 95% confidence interval. A standard two-sided t-test with an assumption of equal variance is used to compute the p-value.\n",
    "\n",
    "Inputs:\n",
    "* DF = data frame with each row being a sample in the A/B test. It must have a column called \"variant\" that takes on the value \"control\" or \"treatment\n",
    "* Metric = the metric we want to evaluate. This must be 'new_active_listings','new_booked_listings', or 'cancellations'). If it is not one of these values an \"invalid metric\" error will be thrown."
   ]
  },
  {
   "cell_type": "code",
   "execution_count": 3,
   "id": "d8510902",
   "metadata": {
    "id": "d8510902"
   },
   "outputs": [],
   "source": [
    "def calculate_results(df,metric):\n",
    "    # Check\n",
    "    if metric not in ('new_active_listing','new_booked_listing','new_cancelled_listing','bookings_4w'):\n",
    "        raise Exception(\"Invalid metric\")\n",
    "\n",
    "    # Values and relative difference\n",
    "    mean_control = df.loc[df['variant'] == \"control\",metric].mean()\n",
    "    mean_treatment = df.loc[df['variant'] == \"treatment\",metric].mean()\n",
    "\n",
    "    abs_diff = mean_treatment-mean_control\n",
    "    rel_diff = (mean_treatment-mean_control)/mean_control\n",
    "\n",
    "    # P-Value -- two-sided ttest, assumes normal distribution\n",
    "    data_group1 = list(df.query('variant == \"control\"')[metric])\n",
    "    data_group2 = list(df.query('variant == \"treatment\"')[metric])\n",
    "\n",
    "    results = stats.ttest_ind(a=data_group1, b=data_group2, equal_var=True)\n",
    "    pvaue = results.pvalue\n",
    "\n",
    "    # 95% confidence intervals\n",
    "    [ci_low, ci_high] = get_ci(mean_treatment,mean_control,len(data_group2),len(data_group1),.95)\n",
    "    ci_low = ci_low/mean_control\n",
    "    ci_high = ci_high/mean_control\n",
    "\n",
    "    return(rel_diff,abs_diff,results.pvalue,ci_low,ci_high)"
   ]
  },
  {
   "cell_type": "markdown",
   "id": "317e93ad",
   "metadata": {
    "id": "317e93ad"
   },
   "source": [
    "## Background"
   ]
  },
  {
   "cell_type": "markdown",
   "id": "12b4b3e5",
   "metadata": {
    "id": "12b4b3e5"
   },
   "source": [
    "Welcome back **TinyTravelers**'s awesome product data scientist! You have developed strong relationships with PaM and the engineers on your team. You are a smooth, efficient, happy product-improving machine. Leadership has taken note and has given your team more resources to grow. You now have some new engineers and a new product manager, Maximus Impact (\"Max\" for short).\n",
    "\n",
    "Like in past weeks, three A/B tests need to be designed and analyzed. Some back and forth communication with Max might also be needed."
   ]
  },
  {
   "cell_type": "markdown",
   "id": "ba0dba43",
   "metadata": {
    "id": "ba0dba43"
   },
   "source": [
    "## Task 1: Landing page change"
   ]
  },
  {
   "cell_type": "markdown",
   "id": "d02130a5",
   "metadata": {
    "id": "d02130a5"
   },
   "source": [
    "The team has a hypothesis that a photo of a family instead of a baby will be more compelling to potential hosts. The thought of a baby staying alone in a house is terrifying. But a family with older kids and adults? Much less scary. That's the idea, anyways. So they want to try testing a photo for the landing page. See the design change below."
   ]
  },
  {
   "cell_type": "markdown",
   "id": "z3PvggYLAnA9",
   "metadata": {
    "id": "z3PvggYLAnA9"
   },
   "source": [
    "![landing_page_small.jpg](data:image/jpeg;base64,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)"
   ]
  },
  {
   "cell_type": "markdown",
   "id": "c22b55cb",
   "metadata": {
    "id": "c22b55cb"
   },
   "source": [
    "### Task 1.a. Test design by answering the following...\n",
    "\n",
    "Like with prior weeks, we first want to determine how to implement the test, and what it is that we're testing for. With that in mind, you'll first need to decide when the test should be triggered: what should trigger the start of the test? Second, you'll need to determine what our hypothesis is. And remember, we're building on what we learned last week, so don't be afraid to look over your Week 1 and 2 projects if it will help you!"
   ]
  },
  {
   "cell_type": "markdown",
   "id": "6b06f233",
   "metadata": {
    "id": "6b06f233"
   },
   "source": [
    "#### Task 1.a.i. When should the test be triggered?"
   ]
  },
  {
   "cell_type": "markdown",
   "id": "a4c04bdd",
   "metadata": {
    "id": "a4c04bdd"
   },
   "source": [
    "| ------------------- _Answer_ ------------------- |\n",
    "\n",
    "Ideally, users should be assigned to either the old experience (landing page with the image of the baby) or new experience (landing page with the image of the family) as close to the proposed change in the product experience as possible.\n",
    "\n",
    "Here, that would mean users are assiged to see either the old experience or new experience immediately before the landing page loads.\n",
    "\n",
    "| ---------------------------------------------- |"
   ]
  },
  {
   "cell_type": "markdown",
   "id": "12a82172",
   "metadata": {
    "id": "12a82172"
   },
   "source": [
    "#### Task 1.a.ii. What is the hypothesis?"
   ]
  },
  {
   "cell_type": "markdown",
   "id": "fe11642b",
   "metadata": {
    "id": "fe11642b"
   },
   "source": [
    "| ------------------- _Answer_ ------------------- |\n",
    "\n",
    "You might phrase the hypothesis for this experiment like this:\n",
    "\n",
    "_If we switch the image on the landing page from a baby to a family, New Booked Listings will increase, because potential hosts will feel more comfortable and therefore more likely to complete the onboarding process._\n",
    "\n",
    "| ---------------------------------------------- |"
   ]
  },
  {
   "cell_type": "markdown",
   "id": "ab14e0fe",
   "metadata": {
    "id": "ab14e0fe"
   },
   "source": [
    "#### Task 1.a.iii. How long should the test run and how will the launch/ no launch decision be made?\n",
    "\n",
    "You can assume there will be 6000 new users per day reaching the landing page, and the cohort-to-book rate is 20%. Max hopes to detect a 2% change if it’s there, but he also doesn't want the test to run for more than three weeks as it's blocking some other work the team hopes to do.\n",
    "\n",
    "You can use an online sample size calculator (e.g., Evan Miller's [sample size calculator](https://www.evanmiller.org/ab-testing/sample-size.html)). If you find that 2% is not feasible in 3 weeks, write how you would communicate the trade-off to Max."
   ]
  },
  {
   "cell_type": "markdown",
   "id": "bd767a02",
   "metadata": {
    "id": "bd767a02"
   },
   "source": [
    "| ------------------- _Answer_ ------------------- |\n",
    "\n",
    "We would decide to launch if:\n",
    "\n",
    "1. We see a relative increase in New Booked Listings that's practically signficant for the business (Max is suggesting 2%),\n",
    "2. The result is statistically signficant, and\n",
    "3. There isn't an overly negative impact on our guardrail metric, New Canceled Listings.\n",
    "\n",
    "Given a 20% baseline conversion rate, a 2% minimum detectable relative effect size, a 50/50 split between control and treatment, a significance level of 5%, and a statistical power of 80%, we'll need 157,328 users in each variant, for a total of 314,656 users in the experiment.\n",
    "\n",
    "With 6,000 new users arriving at the landing page each day, this suggests we'll need 52 or 53 days to reach our minimum required sample size. Since it will take another week for those new listings to get their first booking (or not), the experiment will need to run for **59 or 60 days**.\n",
    "\n",
    "That's over eight weeks, which clearly doesn't meet Max's requirement for completing the test within three weeks.\n",
    "\n",
    "When communicating these results to Max, I would ask him to prioritize what's most important to him:\n",
    "\n",
    "1. The speed with which we can complete the test — for instance, within three weeks\n",
    "2. Detecting a small effect size, if one exists\n",
    "3. The likelihood that any statistically significant effect we find is real, and not a false positive\n",
    "\n",
    "Let's assume it's really important to complete the test within three weeks. How large of an experiment can we run?\n",
    "\n",
    "    6,000 users/day x 14 days = 84,000 users, or 42,000 users per variant\n",
    "\n",
    "(Recall it will take the remaining seven days for these new listings to get their first booking or not.)\n",
    "\n",
    "What are some options for running the experiment, assuming we'll have at most 42,000 users per variant?\n",
    "\n",
    "- We could increase the minimum detectable effect size to 4%.\n",
    "- We could increase the minimum detectable effect size to 3%, increase the significance level to 0.1, and decrease the statistical power to 70%. This option would somewhat increase the risks of both a false positive (detecting a statistically signficant effect when none really exists) and a false negative (failing to detect a statistically significant effect when one really does exist).\n",
    "\n",
    "| ---------------------------------------------- |"
   ]
  },
  {
   "cell_type": "markdown",
   "id": "1d1b1325",
   "metadata": {
    "id": "1d1b1325"
   },
   "source": [
    "### Task 1.b. Test analysis\n",
    "\n",
    "**Warning**: This may give away the answer to part a, so you should complete the run time analysis first."
   ]
  },
  {
   "cell_type": "markdown",
   "id": "f9add4f5",
   "metadata": {
    "id": "f9add4f5"
   },
   "source": [
    "You bring these two data points to Max to align on the run-time. After discussing the run time vs. detectable change with Max, you aligned on running the test for four weeks with an alpha of 0.10. That means you will launch the test if the point estimate for new booked listings is positive with a p-value is less than 0.10.\n",
    "\n",
    "Please analyze the test and summarize the learnings and recommendations for PaM and the team below with the A/B test data provided."
   ]
  },
  {
   "cell_type": "code",
   "execution_count": 7,
   "id": "4ef32309",
   "metadata": {
    "id": "4ef32309"
   },
   "outputs": [],
   "source": [
    "df_landing = pd.read_csv('content/dataset_landing_page.csv')"
   ]
  },
  {
   "cell_type": "code",
   "execution_count": 8,
   "id": "889b5672-63ed-4e42-9608-0955021a9482",
   "metadata": {
    "colab": {
     "base_uri": "https://localhost:8080/",
     "height": 206
    },
    "executionInfo": {
     "elapsed": 254,
     "status": "ok",
     "timestamp": 1685902030857,
     "user": {
      "displayName": "Patrick Harrison",
      "userId": "14546286932266210436"
     },
     "user_tz": 240
    },
    "id": "I8FH0sbconJV",
    "outputId": "b2a712be-0fc1-49fd-f52d-5776bcb20f22"
   },
   "outputs": [
    {
     "data": {
      "text/html": [
       "<div>\n",
       "<style scoped>\n",
       "    .dataframe tbody tr th:only-of-type {\n",
       "        vertical-align: middle;\n",
       "    }\n",
       "\n",
       "    .dataframe tbody tr th {\n",
       "        vertical-align: top;\n",
       "    }\n",
       "\n",
       "    .dataframe thead th {\n",
       "        text-align: right;\n",
       "    }\n",
       "</style>\n",
       "<table border=\"1\" class=\"dataframe\">\n",
       "  <thead>\n",
       "    <tr style=\"text-align: right;\">\n",
       "      <th></th>\n",
       "      <th>new_active_listing</th>\n",
       "      <th>new_booked_listing</th>\n",
       "      <th>new_canceled_listing</th>\n",
       "    </tr>\n",
       "  </thead>\n",
       "  <tbody>\n",
       "    <tr>\n",
       "      <th>rel_diff</th>\n",
       "      <td>-0.000238</td>\n",
       "      <td>0.021563</td>\n",
       "      <td>0.104587</td>\n",
       "    </tr>\n",
       "    <tr>\n",
       "      <th>abs_diff</th>\n",
       "      <td>-0.000094</td>\n",
       "      <td>0.001757</td>\n",
       "      <td>0.000253</td>\n",
       "    </tr>\n",
       "    <tr>\n",
       "      <th>pvalue</th>\n",
       "      <td>0.968525</td>\n",
       "      <td>0.191059</td>\n",
       "      <td>0.304473</td>\n",
       "    </tr>\n",
       "    <tr>\n",
       "      <th>ci_low</th>\n",
       "      <td>-0.012038</td>\n",
       "      <td>-0.010761</td>\n",
       "      <td>-0.095011</td>\n",
       "    </tr>\n",
       "    <tr>\n",
       "      <th>ci_high</th>\n",
       "      <td>0.011563</td>\n",
       "      <td>0.053887</td>\n",
       "      <td>0.304185</td>\n",
       "    </tr>\n",
       "  </tbody>\n",
       "</table>\n",
       "</div>"
      ],
      "text/plain": [
       "          new_active_listing  new_booked_listing  new_canceled_listing\n",
       "rel_diff           -0.000238            0.021563              0.104587\n",
       "abs_diff           -0.000094            0.001757              0.000253\n",
       "pvalue              0.968525            0.191059              0.304473\n",
       "ci_low             -0.012038           -0.010761             -0.095011\n",
       "ci_high             0.011563            0.053887              0.304185"
      ]
     },
     "execution_count": 8,
     "metadata": {},
     "output_type": "execute_result"
    }
   ],
   "source": [
    "results_nal = calculate_results(df_landing, 'new_active_listing')\n",
    "results_nbl = calculate_results(df_landing, 'new_booked_listing')\n",
    "results_ncl = calculate_results(df_landing, 'new_cancelled_listing')\n",
    "\n",
    "results = pd.DataFrame(\n",
    "    {\n",
    "        'new_active_listing': results_nal,\n",
    "        'new_booked_listing': results_nbl,\n",
    "        'new_canceled_listing': results_ncl,\n",
    "    },\n",
    "    index=['rel_diff','abs_diff','pvalue','ci_low','ci_high']\n",
    ")\n",
    "\n",
    "results"
   ]
  },
  {
   "cell_type": "markdown",
   "id": "c9cf5298",
   "metadata": {
    "id": "c9cf5298"
   },
   "source": [
    "| ------------------- _Answer_ ------------------- |\n",
    "\n",
    "New Booked Listings increased by a bit over 2%. However, the result was not statistically significant ($p=0.19$), even according to the more relaxed 90% significance level we agreed on.\n",
    "\n",
    "New Active Listings did not seem to move at all. That's weird, given that our hypothesis expected this change to cause more prospective hosts to complete the onboarding flow.\n",
    "\n",
    "In a potential cause for concern, our guardrail metric of New Canceled Listings increased by over 10%. This result wasn't statistically significant either, though ($p=0.3$)\n",
    "\n",
    "Combined with our decision criteria outlined above, these results suggest we not launch the change.\n",
    "\n",
    "| ---------------------------------------------- |"
   ]
  },
  {
   "cell_type": "markdown",
   "id": "92be320f",
   "metadata": {
    "id": "92be320f"
   },
   "source": [
    "### Task 1.c. Stakeholder management"
   ]
  },
  {
   "cell_type": "markdown",
   "id": "2d67a48a",
   "metadata": {
    "id": "2d67a48a"
   },
   "source": [
    "You share your recommendation in the stakeholder review meeting. Max speaks up:\n",
    "\n",
    "\"Looks to me like this change was actually solid, +2% on new booked listings! And the p-value is pretty close to 0.1, so I think we should ship.\"\n",
    "\n",
    "How do you reply?"
   ]
  },
  {
   "cell_type": "markdown",
   "id": "b54adbbb",
   "metadata": {
    "id": "b54adbbb"
   },
   "source": [
    "| ------------------- _Answer_ ------------------- |\n",
    "\n",
    "It's important that we stick to the decision criteria we established up front about whether or not to launch.\n",
    "We decided on these launch criteria for a reason, and changing our decision criteria after the fact to fit the data we happened to get degrades the value of running controlled experiments in the first place.\n",
    "\n",
    "Further, there's reason to believe the result we got might be spurious.\n",
    "If our hypothesis was correct, we'd expect to see an increase in both New Active Listings and New Booked Listings, but we didn't.\n",
    "There was also a relatively large, though not statistically significant, increase in New Canceled Listings.\n",
    "If we're willing to relax our standards for statistical significance on our target metric, we need to consider our guardrail metric, too. \n",
    "\n",
    "| ---------------------------------------------- |"
   ]
  },
  {
   "cell_type": "markdown",
   "id": "ceca9d0f",
   "metadata": {
    "id": "ceca9d0f"
   },
   "source": [
    "## Task 2: Recommended price"
   ]
  },
  {
   "cell_type": "markdown",
   "id": "efefe5cf",
   "metadata": {
    "id": "efefe5cf"
   },
   "source": [
    "Given the success of the default title in week 1 (remember chatGPT &rarr; 📈 &rarr; 🍾?), the team came up with the idea to try a default price for homes as well. At a high level, to come up with the recommended price, the team uses information that the host has entered about the home so far (e.g., location, how many guests can fit, etc.) and data from the existing home to come up with a price they think this house would be booked at. The model predicts a price while the page is loaded to ensure it's ready to display to the host when they see the page.\n",
    "\n",
    "See the UI change below."
   ]
  },
  {
   "cell_type": "markdown",
   "id": "977a5f98",
   "metadata": {
    "id": "977a5f98"
   },
   "source": [
    "![recommended_price_small.jpg](data:image/jpeg;base64,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)"
   ]
  },
  {
   "cell_type": "markdown",
   "id": "939005d9",
   "metadata": {
    "id": "939005d9"
   },
   "source": [
    "### Task 2.a. Test design by answering the following..."
   ]
  },
  {
   "cell_type": "markdown",
   "id": "33392f55",
   "metadata": {
    "id": "33392f55"
   },
   "source": [
    "#### Task 2.a.i. When should the test be triggered?"
   ]
  },
  {
   "cell_type": "markdown",
   "id": "108a9df4",
   "metadata": {
    "id": "108a9df4"
   },
   "source": [
    "| ------------------- _Answer_ ------------------- |\n",
    "\n",
    "Ideally, users should be assigned to either the old experience (no recommended price) or new experience (Tiny Travelers recommends a price) as close to the proposed change in the product experience as possible.\n",
    "\n",
    "Here, that would mean users are assiged to see either the old experience or new experience immediately before they encounter the \"set your price\" screen.\n",
    "\n",
    "| ---------------------------------------------- |"
   ]
  },
  {
   "cell_type": "markdown",
   "id": "ffb714ed",
   "metadata": {
    "id": "ffb714ed"
   },
   "source": [
    "#### Task 2.a.ii. What is the hypothesis?"
   ]
  },
  {
   "cell_type": "markdown",
   "id": "5ffce306",
   "metadata": {
    "id": "5ffce306"
   },
   "source": [
    "| ------------------- _Answer_ ------------------- |\n",
    "\n",
    "You might phrase the hypothesis for this experiment like this:\n",
    "\n",
    "_If we automatically suggest a price as part of the onboarding flow for new hosts, New Booked Listings will increase, because we will remove a point of friction in the onboarding flow, and more users will complete the onboarding process and publish their listings._\n",
    "\n",
    "Measuring the success or failure of this change using New Booked Listings as the target metric might be tricky.\n",
    "Changing the price seems likely to affect whether or not a new listing receives a booking.\n",
    "In this case, it might make sense to use something like the average booking revenue as a target metric, and New Booked Listings as a guardrail metric or informative metric.\n",
    "\n",
    "| ---------------------------------------------- |"
   ]
  },
  {
   "cell_type": "markdown",
   "id": "3617fe3f",
   "metadata": {
    "id": "3617fe3f"
   },
   "source": [
    "#### Task 2.a.iii. How long should the test run?"
   ]
  },
  {
   "cell_type": "markdown",
   "id": "dc5f9b71",
   "metadata": {
    "id": "dc5f9b71"
   },
   "source": [
    "You can assume that about 4K new users arrive on the price page of the onboarding flow each day. And the cohort-to-book rate is estimated to be 40% because the cohorting happens later in the flow when only the higher intent people are still there. You can use an online sample size calculator (e.g., Evan Miller's [sample size calculator](https://www.evanmiller.org/ab-testing/sample-size.html)). Given that the default title had over a 10% relative increase  (week 1 project), Max is optimistic about this change. Still, he also recognizes this is a different kind of problem and later in the flow, so the impact might not be that big. So he'd like you to bring back some run-time vs. minimal detectable effect options.\n",
    "\n",
    "Please share some run time vs MDE options. For an idea on what this could look like, refer to the [test design module](https://corise.com/course/practical-ab-testing/v2/module/test-design-basics#corise_clgpg1yqy000j3b712q0xi8wk), but instead of having one column be \"users per a variant\" it could be \"needed run-time.\""
   ]
  },
  {
   "cell_type": "markdown",
   "id": "5cc5c6fd",
   "metadata": {
    "id": "5cc5c6fd"
   },
   "source": [
    "| ------------------- _Answer_ ------------------- |\n",
    "\n",
    "Assuming 4,000 users enter the experiment each day, and given a 40% baseline conversion rate, a 50/50 split between control and treatment, a significance level of 5%, and a statistical power of 80%, here are some options for how long we'll need to run the experiment to detect different effect sizes:\n",
    "\n",
    "| Minimum detectable relative impact | Required run-time |\n",
    "| :---: | :---: |\n",
    "| 11% | 8 days |\n",
    "| 9% | 9 days |\n",
    "| 5% | 12 days |\n",
    "| 3% | 21 days |\n",
    "| 2% | 36 days |\n",
    "\n",
    "Keep in mind that after we've achieved the minimum number of users in our experiment, it will take a week for these listings to receive their first booking (or not), so we need to add another 7 days to the run-time. \n",
    "\n",
    "| ---------------------------------------------- |"
   ]
  },
  {
   "cell_type": "markdown",
   "id": "4cd0f806",
   "metadata": {
    "id": "4cd0f806"
   },
   "source": [
    "### Task 2.b. Stakeholder management"
   ]
  },
  {
   "cell_type": "markdown",
   "id": "d168ec71",
   "metadata": {
    "id": "d168ec71"
   },
   "source": [
    "**Warning** this may reveal the answer to the previous task so please complete the run-time first!\n",
    "\n",
    "After discussing the options with Max, you collectively decide that 28 days is a good balance. We like to stick with run-times in week increments so sacrificing the 29th day seems OK. The team put a lot of work into developing the algorithm so Max wants to position them to detect a 2.1% change.\n",
    "\n",
    "The test starts off and everyone is feeling cautiously optimistic and excited for more champagne 🍾."
   ]
  },
  {
   "cell_type": "markdown",
   "id": "31ccbf23",
   "metadata": {
    "id": "31ccbf23"
   },
   "source": [
    "About 48 hours pass when Max shows up at your desk.\n",
    "\n",
    "\"SOMETHING IS WRONG! The results look really bad. I know we said this was going to run for 28 days, but I feel like something is up. Can you take a look?\"\n",
    "\n",
    "You oblige. The results below are the test results after running for 2 days. Please analyze the results and share your reply to Max.\n",
    "\n",
    "_Basic_: Please analyze the results and share your recommendation of how to proceed.\n",
    "\n",
    "_Bonus_: Explore the data carefully, and try to determine what went wrong. Is there any additional data would you ask for to help investigate what happened?"
   ]
  },
  {
   "cell_type": "code",
   "execution_count": 9,
   "id": "af1b235a",
   "metadata": {
    "id": "af1b235a"
   },
   "outputs": [],
   "source": [
    "df_price_1_early = pd.read_csv('content/df_price_1_early.csv')"
   ]
  },
  {
   "cell_type": "code",
   "execution_count": 10,
   "id": "14a88ac3-86db-4b87-b476-f6c45947acf7",
   "metadata": {
    "colab": {
     "base_uri": "https://localhost:8080/",
     "height": 206
    },
    "executionInfo": {
     "elapsed": 254,
     "status": "ok",
     "timestamp": 1685902030857,
     "user": {
      "displayName": "Patrick Harrison",
      "userId": "14546286932266210436"
     },
     "user_tz": 240
    },
    "id": "I8FH0sbconJV",
    "outputId": "b2a712be-0fc1-49fd-f52d-5776bcb20f22"
   },
   "outputs": [
    {
     "data": {
      "text/html": [
       "<div>\n",
       "<style scoped>\n",
       "    .dataframe tbody tr th:only-of-type {\n",
       "        vertical-align: middle;\n",
       "    }\n",
       "\n",
       "    .dataframe tbody tr th {\n",
       "        vertical-align: top;\n",
       "    }\n",
       "\n",
       "    .dataframe thead th {\n",
       "        text-align: right;\n",
       "    }\n",
       "</style>\n",
       "<table border=\"1\" class=\"dataframe\">\n",
       "  <thead>\n",
       "    <tr style=\"text-align: right;\">\n",
       "      <th></th>\n",
       "      <th>new_active_listing</th>\n",
       "      <th>new_booked_listing</th>\n",
       "      <th>new_canceled_listing</th>\n",
       "    </tr>\n",
       "  </thead>\n",
       "  <tbody>\n",
       "    <tr>\n",
       "      <th>rel_diff</th>\n",
       "      <td>-0.267622</td>\n",
       "      <td>-2.431669e-01</td>\n",
       "      <td>-0.159509</td>\n",
       "    </tr>\n",
       "    <tr>\n",
       "      <th>abs_diff</th>\n",
       "      <td>-0.208842</td>\n",
       "      <td>-1.146372e-02</td>\n",
       "      <td>-0.000061</td>\n",
       "    </tr>\n",
       "    <tr>\n",
       "      <th>pvalue</th>\n",
       "      <td>0.000000</td>\n",
       "      <td>3.327342e-08</td>\n",
       "      <td>0.754450</td>\n",
       "    </tr>\n",
       "    <tr>\n",
       "      <th>ci_low</th>\n",
       "      <td>-0.279558</td>\n",
       "      <td>-3.295474e-01</td>\n",
       "      <td>-1.159862</td>\n",
       "    </tr>\n",
       "    <tr>\n",
       "      <th>ci_high</th>\n",
       "      <td>-0.255686</td>\n",
       "      <td>-1.567864e-01</td>\n",
       "      <td>0.840844</td>\n",
       "    </tr>\n",
       "  </tbody>\n",
       "</table>\n",
       "</div>"
      ],
      "text/plain": [
       "          new_active_listing  new_booked_listing  new_canceled_listing\n",
       "rel_diff           -0.267622       -2.431669e-01             -0.159509\n",
       "abs_diff           -0.208842       -1.146372e-02             -0.000061\n",
       "pvalue              0.000000        3.327342e-08              0.754450\n",
       "ci_low             -0.279558       -3.295474e-01             -1.159862\n",
       "ci_high            -0.255686       -1.567864e-01              0.840844"
      ]
     },
     "execution_count": 10,
     "metadata": {},
     "output_type": "execute_result"
    }
   ],
   "source": [
    "results_nal = calculate_results(df_price_1_early, 'new_active_listing')\n",
    "results_nbl = calculate_results(df_price_1_early, 'new_booked_listing')\n",
    "results_ncl = calculate_results(df_price_1_early, 'new_cancelled_listing')\n",
    "\n",
    "results = pd.DataFrame(\n",
    "    {\n",
    "        'new_active_listing': results_nal,\n",
    "        'new_booked_listing': results_nbl,\n",
    "        'new_canceled_listing': results_ncl,\n",
    "    },\n",
    "    index=['rel_diff','abs_diff','pvalue','ci_low','ci_high']\n",
    ")\n",
    "\n",
    "results"
   ]
  },
  {
   "cell_type": "code",
   "execution_count": 11,
   "id": "e99599fb-4ac7-47cb-afc0-092d68152f55",
   "metadata": {},
   "outputs": [
    {
     "data": {
      "text/html": [
       "<div>\n",
       "<style scoped>\n",
       "    .dataframe tbody tr th:only-of-type {\n",
       "        vertical-align: middle;\n",
       "    }\n",
       "\n",
       "    .dataframe tbody tr th {\n",
       "        vertical-align: top;\n",
       "    }\n",
       "\n",
       "    .dataframe thead th {\n",
       "        text-align: right;\n",
       "    }\n",
       "</style>\n",
       "<table border=\"1\" class=\"dataframe\">\n",
       "  <thead>\n",
       "    <tr style=\"text-align: right;\">\n",
       "      <th></th>\n",
       "      <th>Unnamed: 0</th>\n",
       "      <th>id_user</th>\n",
       "      <th>variant</th>\n",
       "      <th>continent</th>\n",
       "      <th>booked_previously</th>\n",
       "      <th>device</th>\n",
       "      <th>new_active_listing</th>\n",
       "      <th>new_booked_listing</th>\n",
       "      <th>new_cancelled_listing</th>\n",
       "      <th>hrs_in_exp</th>\n",
       "    </tr>\n",
       "  </thead>\n",
       "  <tbody>\n",
       "    <tr>\n",
       "      <th>0</th>\n",
       "      <td>1</td>\n",
       "      <td>7181</td>\n",
       "      <td>control</td>\n",
       "      <td>europe</td>\n",
       "      <td>0</td>\n",
       "      <td>android</td>\n",
       "      <td>1</td>\n",
       "      <td>0</td>\n",
       "      <td>0</td>\n",
       "      <td>16.604418</td>\n",
       "    </tr>\n",
       "    <tr>\n",
       "      <th>1</th>\n",
       "      <td>2</td>\n",
       "      <td>11229</td>\n",
       "      <td>treatment</td>\n",
       "      <td>north_america</td>\n",
       "      <td>0</td>\n",
       "      <td>android</td>\n",
       "      <td>1</td>\n",
       "      <td>0</td>\n",
       "      <td>0</td>\n",
       "      <td>30.393129</td>\n",
       "    </tr>\n",
       "    <tr>\n",
       "      <th>2</th>\n",
       "      <td>3</td>\n",
       "      <td>50786</td>\n",
       "      <td>treatment</td>\n",
       "      <td>europe</td>\n",
       "      <td>0</td>\n",
       "      <td>android</td>\n",
       "      <td>0</td>\n",
       "      <td>0</td>\n",
       "      <td>0</td>\n",
       "      <td>0.644750</td>\n",
       "    </tr>\n",
       "    <tr>\n",
       "      <th>3</th>\n",
       "      <td>5</td>\n",
       "      <td>9519</td>\n",
       "      <td>treatment</td>\n",
       "      <td>north_america</td>\n",
       "      <td>0</td>\n",
       "      <td>android</td>\n",
       "      <td>0</td>\n",
       "      <td>0</td>\n",
       "      <td>0</td>\n",
       "      <td>39.788688</td>\n",
       "    </tr>\n",
       "    <tr>\n",
       "      <th>4</th>\n",
       "      <td>9</td>\n",
       "      <td>20281</td>\n",
       "      <td>control</td>\n",
       "      <td>north_america</td>\n",
       "      <td>0</td>\n",
       "      <td>android</td>\n",
       "      <td>1</td>\n",
       "      <td>0</td>\n",
       "      <td>0</td>\n",
       "      <td>27.964404</td>\n",
       "    </tr>\n",
       "  </tbody>\n",
       "</table>\n",
       "</div>"
      ],
      "text/plain": [
       "   Unnamed: 0  id_user    variant      continent  booked_previously   device  \\\n",
       "0           1     7181    control         europe                  0  android   \n",
       "1           2    11229  treatment  north_america                  0  android   \n",
       "2           3    50786  treatment         europe                  0  android   \n",
       "3           5     9519  treatment  north_america                  0  android   \n",
       "4           9    20281    control  north_america                  0  android   \n",
       "\n",
       "   new_active_listing  new_booked_listing  new_cancelled_listing  hrs_in_exp  \n",
       "0                   1                   0                      0   16.604418  \n",
       "1                   1                   0                      0   30.393129  \n",
       "2                   0                   0                      0    0.644750  \n",
       "3                   0                   0                      0   39.788688  \n",
       "4                   1                   0                      0   27.964404  "
      ]
     },
     "execution_count": 11,
     "metadata": {},
     "output_type": "execute_result"
    }
   ],
   "source": [
    "df_price_1_early.head()"
   ]
  },
  {
   "cell_type": "code",
   "execution_count": 12,
   "id": "b049bf03-3f4f-4f6e-b940-46d5158d0bf4",
   "metadata": {},
   "outputs": [
    {
     "data": {
      "text/plain": [
       "treatment    18582\n",
       "control      18221\n",
       "Name: variant, dtype: int64"
      ]
     },
     "execution_count": 12,
     "metadata": {},
     "output_type": "execute_result"
    }
   ],
   "source": [
    "df_price_1_early['variant'].value_counts()"
   ]
  },
  {
   "cell_type": "code",
   "execution_count": 17,
   "id": "920c9604-6677-46e7-bdeb-f24ffd8d8842",
   "metadata": {},
   "outputs": [
    {
     "data": {
      "text/plain": [
       "50059    2\n",
       "14002    2\n",
       "29638    2\n",
       "8521     2\n",
       "50994    2\n",
       "        ..\n",
       "42889    1\n",
       "7526     1\n",
       "14577    1\n",
       "29575    1\n",
       "4903     1\n",
       "Name: id_user, Length: 31173, dtype: int64"
      ]
     },
     "execution_count": 17,
     "metadata": {},
     "output_type": "execute_result"
    }
   ],
   "source": [
    "df_price_1_early['id_user'].value_counts()"
   ]
  },
  {
   "cell_type": "code",
   "execution_count": 18,
   "id": "d51bf8da-93b6-4392-a9ed-995db24af1c8",
   "metadata": {},
   "outputs": [
    {
     "data": {
      "text/html": [
       "<div>\n",
       "<style scoped>\n",
       "    .dataframe tbody tr th:only-of-type {\n",
       "        vertical-align: middle;\n",
       "    }\n",
       "\n",
       "    .dataframe tbody tr th {\n",
       "        vertical-align: top;\n",
       "    }\n",
       "\n",
       "    .dataframe thead th {\n",
       "        text-align: right;\n",
       "    }\n",
       "</style>\n",
       "<table border=\"1\" class=\"dataframe\">\n",
       "  <thead>\n",
       "    <tr style=\"text-align: right;\">\n",
       "      <th></th>\n",
       "      <th>Unnamed: 0</th>\n",
       "      <th>id_user</th>\n",
       "      <th>variant</th>\n",
       "      <th>continent</th>\n",
       "      <th>booked_previously</th>\n",
       "      <th>device</th>\n",
       "      <th>new_active_listing</th>\n",
       "      <th>new_booked_listing</th>\n",
       "      <th>new_cancelled_listing</th>\n",
       "      <th>hrs_in_exp</th>\n",
       "    </tr>\n",
       "  </thead>\n",
       "  <tbody>\n",
       "    <tr>\n",
       "      <th>9069</th>\n",
       "      <td>27554</td>\n",
       "      <td>50059</td>\n",
       "      <td>control</td>\n",
       "      <td>africa</td>\n",
       "      <td>0</td>\n",
       "      <td>android</td>\n",
       "      <td>1</td>\n",
       "      <td>0</td>\n",
       "      <td>0</td>\n",
       "      <td>43.979005</td>\n",
       "    </tr>\n",
       "    <tr>\n",
       "      <th>22642</th>\n",
       "      <td>8273</td>\n",
       "      <td>50059</td>\n",
       "      <td>treatment</td>\n",
       "      <td>africa</td>\n",
       "      <td>1</td>\n",
       "      <td>web</td>\n",
       "      <td>1</td>\n",
       "      <td>0</td>\n",
       "      <td>0</td>\n",
       "      <td>4.803364</td>\n",
       "    </tr>\n",
       "  </tbody>\n",
       "</table>\n",
       "</div>"
      ],
      "text/plain": [
       "       Unnamed: 0  id_user    variant continent  booked_previously   device  \\\n",
       "9069        27554    50059    control    africa                  0  android   \n",
       "22642        8273    50059  treatment    africa                  1      web   \n",
       "\n",
       "       new_active_listing  new_booked_listing  new_cancelled_listing  \\\n",
       "9069                    1                   0                      0   \n",
       "22642                   1                   0                      0   \n",
       "\n",
       "       hrs_in_exp  \n",
       "9069    43.979005  \n",
       "22642    4.803364  "
      ]
     },
     "execution_count": 18,
     "metadata": {},
     "output_type": "execute_result"
    }
   ],
   "source": [
    "df_price_1_early[df_price_1_early['id_user'] == 50059]"
   ]
  },
  {
   "cell_type": "code",
   "execution_count": 19,
   "id": "bf53838d-5f24-437b-a296-43b475fbb37a",
   "metadata": {},
   "outputs": [
    {
     "data": {
      "text/html": [
       "<div>\n",
       "<style scoped>\n",
       "    .dataframe tbody tr th:only-of-type {\n",
       "        vertical-align: middle;\n",
       "    }\n",
       "\n",
       "    .dataframe tbody tr th {\n",
       "        vertical-align: top;\n",
       "    }\n",
       "\n",
       "    .dataframe thead th {\n",
       "        text-align: right;\n",
       "    }\n",
       "</style>\n",
       "<table border=\"1\" class=\"dataframe\">\n",
       "  <thead>\n",
       "    <tr style=\"text-align: right;\">\n",
       "      <th></th>\n",
       "      <th>Unnamed: 0</th>\n",
       "      <th>id_user</th>\n",
       "      <th>variant</th>\n",
       "      <th>continent</th>\n",
       "      <th>booked_previously</th>\n",
       "      <th>device</th>\n",
       "      <th>new_active_listing</th>\n",
       "      <th>new_booked_listing</th>\n",
       "      <th>new_cancelled_listing</th>\n",
       "      <th>hrs_in_exp</th>\n",
       "    </tr>\n",
       "  </thead>\n",
       "  <tbody>\n",
       "    <tr>\n",
       "      <th>9607</th>\n",
       "      <td>29152</td>\n",
       "      <td>14002</td>\n",
       "      <td>control</td>\n",
       "      <td>africa</td>\n",
       "      <td>0</td>\n",
       "      <td>android</td>\n",
       "      <td>1</td>\n",
       "      <td>0</td>\n",
       "      <td>0</td>\n",
       "      <td>7.628829</td>\n",
       "    </tr>\n",
       "    <tr>\n",
       "      <th>30426</th>\n",
       "      <td>31857</td>\n",
       "      <td>14002</td>\n",
       "      <td>control</td>\n",
       "      <td>north_america</td>\n",
       "      <td>1</td>\n",
       "      <td>ios</td>\n",
       "      <td>1</td>\n",
       "      <td>0</td>\n",
       "      <td>0</td>\n",
       "      <td>5.111582</td>\n",
       "    </tr>\n",
       "  </tbody>\n",
       "</table>\n",
       "</div>"
      ],
      "text/plain": [
       "       Unnamed: 0  id_user  variant      continent  booked_previously  \\\n",
       "9607        29152    14002  control         africa                  0   \n",
       "30426       31857    14002  control  north_america                  1   \n",
       "\n",
       "        device  new_active_listing  new_booked_listing  new_cancelled_listing  \\\n",
       "9607   android                   1                   0                      0   \n",
       "30426      ios                   1                   0                      0   \n",
       "\n",
       "       hrs_in_exp  \n",
       "9607     7.628829  \n",
       "30426    5.111582  "
      ]
     },
     "execution_count": 19,
     "metadata": {},
     "output_type": "execute_result"
    }
   ],
   "source": [
    "df_price_1_early[df_price_1_early['id_user'] == 14002]"
   ]
  },
  {
   "cell_type": "markdown",
   "id": "245ba80f",
   "metadata": {
    "id": "245ba80f"
   },
   "source": [
    "| ------------------- |\n",
    "_Write findings and recommendation here_\n",
    "| ------------------- |"
   ]
  },
  {
   "cell_type": "markdown",
   "id": "004efc76",
   "metadata": {
    "id": "004efc76"
   },
   "source": [
    "## Task 3: Recommended price v2\n",
    "\n",
    "**Warning** this may reveal part of the solution to task 2, so please complete that first!"
   ]
  },
  {
   "cell_type": "markdown",
   "id": "7f2e7474",
   "metadata": {
    "id": "7f2e7474"
   },
   "source": [
    "The bug you identified in the initial price recommendation test has been resolved. The team wants to try again. The design you did in task 2 holds, and you and Max decide that 28 days is still a good run-time."
   ]
  },
  {
   "cell_type": "markdown",
   "id": "8c092a94",
   "metadata": {
    "id": "8c092a94"
   },
   "source": [
    "### Task 3.a. Stakeholder management"
   ]
  },
  {
   "cell_type": "markdown",
   "id": "31d7641f",
   "metadata": {
    "id": "31d7641f"
   },
   "source": [
    "The 48 hour mark passes and the results look OK. Everyone gives a collective sigh of relief. But then after 3 days, Max shows up to your desk.\n",
    "\n",
    "These results are SO GOOD. We should ship right now. You ask for a tapering of excitement while you look into the results.\n",
    "\n",
    "Below we provide the results after 3 days of the test running. Please analyze the results and make a recommendation on how to proceed."
   ]
  },
  {
   "cell_type": "code",
   "execution_count": 21,
   "id": "3d2066c8",
   "metadata": {
    "id": "3d2066c8"
   },
   "outputs": [],
   "source": [
    "df_price_2_early = pd.read_csv('content/dataset_price_v2_early.csv')"
   ]
  },
  {
   "cell_type": "code",
   "execution_count": 22,
   "id": "78f1e7d6-567c-45a4-b9f5-16ed2586fa03",
   "metadata": {},
   "outputs": [
    {
     "data": {
      "text/plain": [
       "94392     1\n",
       "84273     1\n",
       "101853    1\n",
       "84663     1\n",
       "14059     1\n",
       "         ..\n",
       "23421     1\n",
       "8112      1\n",
       "41147     1\n",
       "107926    1\n",
       "57149     1\n",
       "Name: id_user, Length: 50636, dtype: int64"
      ]
     },
     "execution_count": 22,
     "metadata": {},
     "output_type": "execute_result"
    }
   ],
   "source": [
    "df_price_2_early['id_user'].value_counts()"
   ]
  },
  {
   "cell_type": "markdown",
   "id": "f3d8895c",
   "metadata": {
    "id": "f3d8895c"
   },
   "source": [
    "| ------------------- |\n",
    "_Write findings and recommendation here_\n",
    "| ------------------- |"
   ]
  },
  {
   "cell_type": "markdown",
   "id": "77cd411c",
   "metadata": {
    "id": "77cd411c"
   },
   "source": [
    "### Task 3.b. Test analysis\n",
    "\n",
    "**Warning** this may give away the answer to task 3.a. so we recommend doing that first."
   ]
  },
  {
   "cell_type": "markdown",
   "id": "fZcnK_z7DhMd",
   "metadata": {
    "id": "fZcnK_z7DhMd"
   },
   "source": [
    "Max agrees to wait the full 28 days, though he can't help but ask about how the test is doing a few more times :) The four weeks are up and it's time to look at the results. Please analyze the data provided below, and share a summary and recommendation on how to proceed."
   ]
  },
  {
   "cell_type": "code",
   "execution_count": 6,
   "id": "8e65968e",
   "metadata": {
    "id": "8e65968e"
   },
   "outputs": [],
   "source": [
    "df_price_2 = pd.read_csv('content/dataset_price_v2.csv')\n",
    "\n",
    "# Code goes here"
   ]
  },
  {
   "cell_type": "markdown",
   "id": "9a9c4b58",
   "metadata": {
    "id": "9a9c4b58"
   },
   "source": [
    "| ------------------- |\n",
    "_Write findings and recommendation here_\n",
    "| ------------------- |"
   ]
  },
  {
   "cell_type": "markdown",
   "id": "1142e228",
   "metadata": {
    "id": "1142e228"
   },
   "source": [
    "### Task 3.c._(BONUS)_ Deep dive in analysis"
   ]
  },
  {
   "cell_type": "markdown",
   "id": "4ec5b405",
   "metadata": {
    "id": "4ec5b405"
   },
   "source": [
    "Although everyone is happy the results ended positive in the end and the price recommender was able to launch, you want to understand _why_ the early results were so positive."
   ]
  },
  {
   "cell_type": "markdown",
   "id": "192b2952",
   "metadata": {
    "id": "192b2952"
   },
   "source": [
    "#### Task 3.c.i. What hypotheses do you have for why the early results were so positive?\n",
    "\n",
    "Why do you think the early results were so much more positive than the end results? What analysis could you do to confirm or reject those hypthesis?\n",
    "\n",
    "No code here- just thoughts."
   ]
  },
  {
   "cell_type": "markdown",
   "id": "cae02ee5",
   "metadata": {
    "id": "cae02ee5"
   },
   "source": [
    "| ------------------- |\n",
    "_Write findings and recommendation here_\n",
    "| ------------------- |"
   ]
  },
  {
   "cell_type": "markdown",
   "id": "35b6f044",
   "metadata": {
    "id": "35b6f044"
   },
   "source": [
    "#### Task 3.c.ii. Show the results over time\n",
    "\n",
    "Do the results vary by the day someone was cohorted? What does this tell you?\n",
    "\n",
    "This section can take a while and require more advanced Python than you've needed to-date for this course, so we recommend coming back to it after the other tasks are complete."
   ]
  },
  {
   "cell_type": "code",
   "execution_count": null,
   "id": "8be4332e",
   "metadata": {
    "id": "8be4332e"
   },
   "outputs": [],
   "source": [
    "# Useful for visualization - you can use other libraries/ approaches though if you prefer!\n",
    "import seaborn as sns\n",
    "\n",
    "# Code goes here"
   ]
  },
  {
   "cell_type": "markdown",
   "id": "8aeefe02",
   "metadata": {
    "id": "8aeefe02"
   },
   "source": [
    "| ------------------- |\n",
    "_Write conclusion here_\n",
    "| ------------------- |"
   ]
  }
 ],
 "metadata": {
  "colab": {
   "provenance": []
  },
  "kernelspec": {
   "display_name": "CoRise Practical AB Testing",
   "language": "python",
   "name": "corise-practical-ab-testing"
  },
  "language_info": {
   "codemirror_mode": {
    "name": "ipython",
    "version": 3
   },
   "file_extension": ".py",
   "mimetype": "text/x-python",
   "name": "python",
   "nbconvert_exporter": "python",
   "pygments_lexer": "ipython3",
   "version": "3.11.3"
  }
 },
 "nbformat": 4,
 "nbformat_minor": 5
}
